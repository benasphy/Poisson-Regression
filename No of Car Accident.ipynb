{
  "nbformat": 4,
  "nbformat_minor": 0,
  "metadata": {
    "colab": {
      "provenance": [],
      "authorship_tag": "ABX9TyPNIuN2qwtOYupYGGCz4Qbw",
      "include_colab_link": true
    },
    "kernelspec": {
      "name": "python3",
      "display_name": "Python 3"
    },
    "language_info": {
      "name": "python"
    }
  },
  "cells": [
    {
      "cell_type": "markdown",
      "metadata": {
        "id": "view-in-github",
        "colab_type": "text"
      },
      "source": [
        "<a href=\"https://colab.research.google.com/github/benasphy/Poisson-Regression/blob/main/No%20of%20Car%20Accident.ipynb\" target=\"_parent\"><img src=\"https://colab.research.google.com/assets/colab-badge.svg\" alt=\"Open In Colab\"/></a>"
      ]
    },
    {
      "cell_type": "code",
      "source": [
        "import pandas as pd\n",
        "from sklearn.model_selection import train_test_split\n",
        "from sklearn.preprocessing import OneHotEncoder, StandardScaler\n",
        "from sklearn.compose import ColumnTransformer\n",
        "from sklearn.pipeline import Pipeline\n",
        "from sklearn.linear_model import PoissonRegressor\n",
        "from sklearn.metrics import mean_squared_error, mean_absolute_error\n",
        "\n",
        "# Create a small dataset mimicking real-world traffic data\n",
        "data = pd.DataFrame({\n",
        "    'average_speed': [50, 70, 40, 60, 30, 80, 45, 55, 65, 75],  # Speed in km/h\n",
        "    'traffic_density': [30, 80, 20, 60, 10, 90, 25, 40, 70, 85],  # Vehicles/km\n",
        "    'road_condition': ['Good', 'Good', 'Bad', 'Good', 'Bad', 'Good', 'Bad', 'Good', 'Bad', 'Good'],  # Categorical\n",
        "    'accident_count': [2, 5, 1, 4, 0, 7, 1, 3, 6, 8]  # Number of accidents\n",
        "})\n",
        "\n",
        "# Features and target\n",
        "features = ['average_speed', 'traffic_density', 'road_condition']\n",
        "target = 'accident_count'\n",
        "\n",
        "# Train-test split\n",
        "X = data[features]\n",
        "y = data[target]\n",
        "X_train, X_test, y_train, y_test = train_test_split(X, y, test_size=0.2, random_state=42)\n",
        "\n",
        "# Preprocessing\n",
        "# Numerical: StandardScaler\n",
        "# Categorical: OneHotEncoder\n",
        "preprocessor = ColumnTransformer(\n",
        "    transformers=[\n",
        "        ('num', StandardScaler(), ['average_speed', 'traffic_density']),\n",
        "        ('cat', OneHotEncoder(), ['road_condition'])\n",
        "    ]\n",
        ")\n",
        "\n",
        "# Pipeline with Poisson Regression\n",
        "pipeline = Pipeline(steps=[\n",
        "    ('preprocessor', preprocessor),\n",
        "    ('model', PoissonRegressor(alpha=0.1, max_iter=1000))\n",
        "])\n",
        "\n",
        "# Train the model\n",
        "pipeline.fit(X_train, y_train)\n",
        "\n",
        "# Predict on test data\n",
        "y_pred = pipeline.predict(X_test)\n",
        "\n",
        "# Evaluate the model\n",
        "mse = mean_squared_error(y_test, y_pred)\n",
        "mae = mean_absolute_error(y_test, y_pred)\n",
        "\n",
        "print(f\"\\nMean Squared Error: {mse:.2f}\")\n",
        "print(f\"Mean Absolute Error: {mae:.2f}\")\n",
        "\n",
        "# Compare predictions with actual values\n",
        "comparison = pd.DataFrame({'Actual': y_test.values, 'Predicted': y_pred})\n",
        "print(\"\\nActual vs Predicted Accident Counts:\\n\", comparison)\n",
        "\n",
        "# **New Prediction: Unseen Data**\n",
        "# Create new unseen data to predict accident counts\n",
        "new_data = pd.DataFrame({\n",
        "    'average_speed': [50, 30, 70],  # New average speeds in km/h\n",
        "    'traffic_density': [35, 15, 85],  # New traffic densities\n",
        "    'road_condition': ['Good', 'Bad', 'Good']  # New road conditions\n",
        "})\n",
        "\n",
        "# Predict accident counts for the new data\n",
        "new_predictions = pipeline.predict(new_data)\n",
        "\n",
        "# Combine the new data with predictions\n",
        "new_data['Predicted_Accidents'] = new_predictions\n",
        "print(\"\\nNew Data with Predicted Accident Counts:\\n\", new_data)\n"
      ],
      "metadata": {
        "colab": {
          "base_uri": "https://localhost:8080/"
        },
        "id": "_IbCRdJKt5tk",
        "outputId": "240d7a4b-e0c0-462c-af99-549e2e0b283c"
      },
      "execution_count": 2,
      "outputs": [
        {
          "output_type": "stream",
          "name": "stdout",
          "text": [
            "\n",
            "Mean Squared Error: 6.95\n",
            "Mean Absolute Error: 2.25\n",
            "\n",
            "Actual vs Predicted Accident Counts:\n",
            "    Actual  Predicted\n",
            "0       6   2.377591\n",
            "1       5   5.883916\n",
            "\n",
            "New Data with Predicted Accident Counts:\n",
            "    average_speed  traffic_density road_condition  Predicted_Accidents\n",
            "0             50               35           Good             2.287073\n",
            "1             30               15            Bad             0.598993\n",
            "2             70               85           Good             6.234709\n"
          ]
        }
      ]
    }
  ]
}